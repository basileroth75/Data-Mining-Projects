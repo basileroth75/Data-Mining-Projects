{
 "cells": [
  {
   "cell_type": "markdown",
   "metadata": {},
   "source": [
    "# Exercice 1 : Evaluate the clustering quality with metrics\n",
    "\n",
    "### Define the function to compute the metrics (Jaccard, Rand Statistic, Fowlkes Mallow)"
   ]
  },
  {
   "cell_type": "code",
   "execution_count": 1,
   "metadata": {},
   "outputs": [],
   "source": [
    "from math import sqrt\n",
    "\n",
    "def jaccard_coeff(FP,FN,TP):\n",
    "    \"\"\"\n",
    "    In order to compute the Jaccard coefficient -> The closest it gets from 1, the better it is. \n",
    "        @ FP : False Positive\n",
    "        @ FN : False Negative\n",
    "        @ TP : True Positive\n",
    "    \"\"\"\n",
    "    return TP/(TP+FN+FP)\n",
    "\n",
    "def rand_statistic(TN,TP,N):\n",
    "    \"\"\"\n",
    "    In order to compute the Random Statistic coefficient -> The closest it gets from 1, the better it is. \n",
    "        @ TN : True Negative\n",
    "        @ TP : True Positive\n",
    "        @ N : number of samples\n",
    "    \"\"\"\n",
    "    return (TP+TN)/N\n",
    "\n",
    "def fowlkes_mallow(TP,FN,FP):\n",
    "    \"\"\"\n",
    "    In order to compute the Fowlkes-Mallow measure -> The smallest it is, the better it gets\n",
    "        @ FN : False Negative\n",
    "        @ FP : False Positive\n",
    "        @ TP : True Positive\n",
    "    \"\"\"\n",
    "    return TP/sqrt((TP+FN)*(TP+FP))"
   ]
  },
  {
   "cell_type": "markdown",
   "metadata": {},
   "source": [
    "## Load the data from the xlsx file"
   ]
  },
  {
   "cell_type": "code",
   "execution_count": 2,
   "metadata": {},
   "outputs": [
    {
     "name": "stdout",
     "output_type": "stream",
     "text": [
      "Data for algorithm A : \n"
     ]
    },
    {
     "data": {
      "text/html": [
       "<div>\n",
       "<style scoped>\n",
       "    .dataframe tbody tr th:only-of-type {\n",
       "        vertical-align: middle;\n",
       "    }\n",
       "\n",
       "    .dataframe tbody tr th {\n",
       "        vertical-align: top;\n",
       "    }\n",
       "\n",
       "    .dataframe thead th {\n",
       "        text-align: right;\n",
       "    }\n",
       "</style>\n",
       "<table border=\"1\" class=\"dataframe\">\n",
       "  <thead>\n",
       "    <tr style=\"text-align: right;\">\n",
       "      <th></th>\n",
       "      <th>T1</th>\n",
       "      <th>T2</th>\n",
       "      <th>S</th>\n",
       "    </tr>\n",
       "  </thead>\n",
       "  <tbody>\n",
       "    <tr>\n",
       "      <th>0</th>\n",
       "      <td>8</td>\n",
       "      <td>3</td>\n",
       "      <td>11</td>\n",
       "    </tr>\n",
       "    <tr>\n",
       "      <th>1</th>\n",
       "      <td>1</td>\n",
       "      <td>6</td>\n",
       "      <td>7</td>\n",
       "    </tr>\n",
       "    <tr>\n",
       "      <th>2</th>\n",
       "      <td>9</td>\n",
       "      <td>9</td>\n",
       "      <td>18</td>\n",
       "    </tr>\n",
       "  </tbody>\n",
       "</table>\n",
       "</div>"
      ],
      "text/plain": [
       "   T1  T2   S\n",
       "0   8   3  11\n",
       "1   1   6   7\n",
       "2   9   9  18"
      ]
     },
     "metadata": {},
     "output_type": "display_data"
    },
    {
     "name": "stdout",
     "output_type": "stream",
     "text": [
      "Data for algorithm B : \n"
     ]
    },
    {
     "data": {
      "text/html": [
       "<div>\n",
       "<style scoped>\n",
       "    .dataframe tbody tr th:only-of-type {\n",
       "        vertical-align: middle;\n",
       "    }\n",
       "\n",
       "    .dataframe tbody tr th {\n",
       "        vertical-align: top;\n",
       "    }\n",
       "\n",
       "    .dataframe thead th {\n",
       "        text-align: right;\n",
       "    }\n",
       "</style>\n",
       "<table border=\"1\" class=\"dataframe\">\n",
       "  <thead>\n",
       "    <tr style=\"text-align: right;\">\n",
       "      <th></th>\n",
       "      <th>T1</th>\n",
       "      <th>T2</th>\n",
       "      <th>S</th>\n",
       "    </tr>\n",
       "  </thead>\n",
       "  <tbody>\n",
       "    <tr>\n",
       "      <th>0</th>\n",
       "      <td>7</td>\n",
       "      <td>2</td>\n",
       "      <td>9</td>\n",
       "    </tr>\n",
       "    <tr>\n",
       "      <th>1</th>\n",
       "      <td>2</td>\n",
       "      <td>7</td>\n",
       "      <td>9</td>\n",
       "    </tr>\n",
       "    <tr>\n",
       "      <th>2</th>\n",
       "      <td>9</td>\n",
       "      <td>9</td>\n",
       "      <td>18</td>\n",
       "    </tr>\n",
       "  </tbody>\n",
       "</table>\n",
       "</div>"
      ],
      "text/plain": [
       "   T1  T2   S\n",
       "0   7   2   9\n",
       "1   2   7   9\n",
       "2   9   9  18"
      ]
     },
     "metadata": {},
     "output_type": "display_data"
    }
   ],
   "source": [
    "import pandas as pd \n",
    "from pandas import read_excel\n",
    "\n",
    "sheet_algo_A = 'Algorithme_A' \n",
    "sheet_algo_B = 'Algorithme_B' \n",
    "\n",
    "file_name = 'data_clustering.xlsx'\n",
    "df_algo_A = read_excel(file_name, sheet_name = sheet_algo_A)\n",
    "df_algo_B = read_excel(file_name, sheet_name = sheet_algo_B)\n",
    "print(\"Data for algorithm A : \")\n",
    "display(df_algo_A)\n",
    "print(\"Data for algorithm B : \")\n",
    "display(df_algo_B)"
   ]
  },
  {
   "cell_type": "markdown",
   "metadata": {},
   "source": [
    "## Get the value of all metrics for both algorithms"
   ]
  },
  {
   "cell_type": "code",
   "execution_count": 3,
   "metadata": {},
   "outputs": [],
   "source": [
    "import math\n",
    "\n",
    "def getbinomialcoef(a,b):\n",
    "    if b == 1 or a == b:\n",
    "        return 1\n",
    "    if b > a:\n",
    "        print(\"Error ... the 2nd number is higher than the 1st.\")\n",
    "        return 0   \n",
    "    else:\n",
    "        fact_a = math.factorial(a)\n",
    "        fact_b = math.factorial(b)\n",
    "        fact_ab = math.factorial(a-b)\n",
    "        div = fact_a // (fact_b*fact_ab)\n",
    "        return div"
   ]
  },
  {
   "cell_type": "markdown",
   "metadata": {},
   "source": [
    "### Algorithme A"
   ]
  },
  {
   "cell_type": "code",
   "execution_count": 14,
   "metadata": {},
   "outputs": [
    {
     "name": "stdout",
     "output_type": "stream",
     "text": [
      "Error ... the 2nd number is higher than the 1st.\n",
      "TruePositive =  46\n",
      "FalsePositive =  30\n",
      "FalseNegative =  26\n",
      "TrueNegative =  51\n",
      "Jaccard =  0.45098039215686275\n",
      "Rand Statistic =  0.6339869281045751\n",
      "fowlkes_mallow =  0.6218487810012564\n"
     ]
    }
   ],
   "source": [
    "TruePositive = getbinomialcoef(8,2) + getbinomialcoef(3,2) + getbinomialcoef(6,2) + getbinomialcoef(1,2)\n",
    "FalseNegative = getbinomialcoef(9,2) + getbinomialcoef(9,2) - TruePositive\n",
    "FalsePositive = getbinomialcoef(11,2) + getbinomialcoef(7,2) - TruePositive\n",
    "TrueNegative = getbinomialcoef(18,2) - TruePositive - FalsePositive - FalseNegative\n",
    "print(\"TruePositive = \",TruePositive)\n",
    "print(\"FalsePositive = \",FalsePositive)\n",
    "print(\"FalseNegative = \",FalseNegative)\n",
    "print(\"TrueNegative = \",TrueNegative)\n",
    "jaccard = jaccard_coeff(FalsePositive,FalseNegative,TruePositive)\n",
    "randstatistic = rand_statistic(TrueNegative,TruePositive,(TruePositive+FalseNegative+FalsePositive+TrueNegative))\n",
    "fowlkes_mallow = fowlkes_mallow(TruePositive,FalseNegative,FalsePositive)\n",
    "print(\"Jaccard = \",jaccard)\n",
    "print(\"Rand Statistic = \",randstatistic)\n",
    "print(\"fowlkes_mallow = \",fowlkes_mallow)"
   ]
  },
  {
   "cell_type": "markdown",
   "metadata": {},
   "source": [
    "### Algorithme B"
   ]
  },
  {
   "cell_type": "code",
   "execution_count": 4,
   "metadata": {},
   "outputs": [
    {
     "name": "stdout",
     "output_type": "stream",
     "text": [
      "TruePositive =  44\n",
      "FalsePositive =  28\n",
      "FalseNegative =  28\n",
      "TrueNegative =  53\n",
      "Jaccard =  0.44\n",
      "Rand Statistic =  0.6339869281045751\n",
      "fowlkes_mallow =  0.6111111111111112\n"
     ]
    }
   ],
   "source": [
    "TruePositive = getbinomialcoef(7,2) + getbinomialcoef(2,2) + getbinomialcoef(7,2) + getbinomialcoef(2,2)\n",
    "FalsePositive = getbinomialcoef(9,2) + getbinomialcoef(9,2) - TruePositive\n",
    "FalseNegative = getbinomialcoef(9,2) + getbinomialcoef(9,2) - TruePositive\n",
    "TrueNegative = getbinomialcoef(18,2) - TruePositive - FalsePositive - FalseNegative\n",
    "print(\"TruePositive = \",TruePositive)\n",
    "print(\"FalsePositive = \",FalsePositive)\n",
    "print(\"FalseNegative = \",FalseNegative)\n",
    "print(\"TrueNegative = \",TrueNegative)\n",
    "jaccard = jaccard_coeff(FalsePositive,FalseNegative,TruePositive)\n",
    "randstatistic = rand_statistic(TrueNegative,TruePositive,(TruePositive+FalseNegative+FalsePositive+TrueNegative))\n",
    "fowlkes_mallow = fowlkes_mallow(TruePositive,FalseNegative,FalsePositive)\n",
    "print(\"Jaccard = \",jaccard)\n",
    "print(\"Rand Statistic = \",randstatistic)\n",
    "print(\"fowlkes_mallow = \",fowlkes_mallow)"
   ]
  },
  {
   "cell_type": "markdown",
   "metadata": {},
   "source": [
    "# Exercice 2 : Clustering"
   ]
  },
  {
   "cell_type": "code",
   "execution_count": 87,
   "metadata": {},
   "outputs": [
    {
     "data": {
      "image/png": "[encoded data removed]",
      "text/plain": [
       "<Figure size 432x288 with 1 Axes>"
      ]
     },
     "metadata": {
      "needs_background": "light"
     },
     "output_type": "display_data"
    }
   ],
   "source": [
    "import matplotlib.pyplot as plt\n",
    "import pandas as pd\n",
    "import numpy as np\n",
    "\n",
    "labels = ['centroid{0}'.format(i) for i in range(3)]\n",
    "points = ['point{0}'.format(i) for i in range(2)]\n",
    "\n",
    "\n",
    "centroid1 = [0,1]\n",
    "centroid2 = [2,1]\n",
    "centroid3 = [-1,2]\n",
    "p1 = [2,3]\n",
    "p2 = [-0.5,0]\n",
    "\n",
    "\n",
    "data = [centroid1,centroid2,centroid3,p1,p2]\n",
    "df_points = pd.DataFrame(columns=[\"X\",\"Y\"],data=data)\n",
    "df_points['X'] = df_points['X'].astype(dtype=np.float64)\n",
    "df_points['Y'] = df_points['Y'].astype(dtype=np.float64)\n",
    "\n",
    "plt.scatter(df_points.iloc[0:3,0],df_points.iloc[0:3,1])\n",
    "plt.scatter(df_points.iloc[3:5,0],df_points.iloc[3:5,1])\n",
    "\n",
    "for label, x, y in zip(labels, df_points.iloc[0:3, 0], df_points.iloc[0:3, 1]):\n",
    "    plt.annotate(label,xy=(x, y), xytext=(-20, 20),textcoords='offset points', ha='right', va='bottom',bbox=dict(boxstyle='round,pad=0.5', fc='blue', alpha=0.5),arrowprops=dict(arrowstyle = '-', connectionstyle='arc3,rad=0'))\n",
    "\n",
    "for label, x, y in zip(points, df_points.iloc[3:5, 0], df_points.iloc[3:5, 1]):\n",
    "    plt.annotate(label,xy=(x, y), xytext=(-20, 20),textcoords='offset points', ha='right', va='bottom',bbox=dict(boxstyle='round,pad=0.5', fc='ORANGE', alpha=0.5),arrowprops=dict(arrowstyle = '-', connectionstyle='arc3,rad=0'))\n",
    " \n",
    "plt.show()"
   ]
  },
  {
   "cell_type": "code",
   "execution_count": 84,
   "metadata": {},
   "outputs": [],
   "source": [
    "def distance(x1,x2,y1,y2):\n",
    "    return sqrt((x1-x2)**2 + (y1-y2)**2)"
   ]
  },
  {
   "cell_type": "code",
   "execution_count": 86,
   "metadata": {},
   "outputs": [
    {
     "name": "stdout",
     "output_type": "stream",
     "text": [
      "Point 1 : \n",
      "1.118033988749895\n",
      "2.692582403567252\n",
      "2.0615528128088303\n",
      "Point 2 : \n",
      "2.8284271247461903\n",
      "2.0\n",
      "3.1622776601683795\n"
     ]
    }
   ],
   "source": [
    "print(\"Point 1 : \")\n",
    "print(distance(-0.5,0,0,1))\n",
    "print(distance(-0.5,2,0,1))\n",
    "print(distance(-0.5,-1,0,2))\n",
    "print(\"Point 2 : \")\n",
    "print(distance(2,0,3,1))\n",
    "print(distance(2,2,3,1))\n",
    "print(distance(2,-1,3,2))"
   ]
  },
  {
   "cell_type": "code",
   "execution_count": null,
   "metadata": {},
   "outputs": [],
   "source": []
  }
 ],
 "metadata": {
  "kernelspec": {
   "display_name": "Python 3",
   "language": "python",
   "name": "python3"
  },
  "language_info": {
   "codemirror_mode": {
    "name": "ipython",
    "version": 3
   },
   "file_extension": ".py",
   "mimetype": "text/x-python",
   "name": "python",
   "nbconvert_exporter": "python",
   "pygments_lexer": "ipython3",
   "version": "3.7.7"
  }
 },
 "nbformat": 4,
 "nbformat_minor": 4
}
