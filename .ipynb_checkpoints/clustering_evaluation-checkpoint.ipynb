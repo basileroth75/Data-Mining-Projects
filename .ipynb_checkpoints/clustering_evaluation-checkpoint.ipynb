{
 "cells": [
  {
   "cell_type": "markdown",
   "metadata": {},
   "source": [
    "# Define the function to compute the metrics (Jaccard, Rand Statistic, Fowlkes Mallow)"
   ]
  },
  {
   "cell_type": "code",
   "execution_count": null,
   "metadata": {},
   "outputs": [],
   "source": [
    "from math import sqrt\n",
    "\n",
    "def jaccard_coeff(FP,FN,TP):\n",
    "    \"\"\"\n",
    "    In order to compute the Jaccard coefficient -> The closest it gets from 1, the better it is. \n",
    "        @ FP : False Positive\n",
    "        @ FN : False Negative\n",
    "        @ TP : True Positive\n",
    "    \"\"\"\n",
    "    return TP/(TP+FN+FP)\n",
    "\n",
    "def rand_statistic(TN,TP):\n",
    "    \"\"\"\n",
    "    In order to compute the Random Statistic coefficient -> The closest it gets from 1, the better it is. \n",
    "        @ TN : True Negative\n",
    "        @ TP : True Positive\n",
    "        @ N : number of samples\n",
    "    \"\"\"\n",
    "    return (TP+TN)/N\n",
    "\n",
    "def fowlkes_mallow(TP,FN,FP):\n",
    "    \"\"\"\n",
    "    In order to compute the Fowlkes-Mallow measure -> The smallest it is, the better it gets\n",
    "        @ FN : False Negative\n",
    "        @ FP : False Positive\n",
    "        @ TP : True Positive\n",
    "    \"\"\"\n",
    "    return TP/sqrt((TP+FN)*(TP+FP)"
   ]
  },
  {
   "cell_type": "markdown",
   "metadata": {},
   "source": [
    "# Load the data from the xlsx file"
   ]
  },
  {
   "cell_type": "code",
   "execution_count": 4,
   "metadata": {},
   "outputs": [
    {
     "name": "stdout",
     "output_type": "stream",
     "text": [
      "Data for algorithme A : \n"
     ]
    },
    {
     "data": {
      "text/html": [
       "<div>\n",
       "<style scoped>\n",
       "    .dataframe tbody tr th:only-of-type {\n",
       "        vertical-align: middle;\n",
       "    }\n",
       "\n",
       "    .dataframe tbody tr th {\n",
       "        vertical-align: top;\n",
       "    }\n",
       "\n",
       "    .dataframe thead th {\n",
       "        text-align: right;\n",
       "    }\n",
       "</style>\n",
       "<table border=\"1\" class=\"dataframe\">\n",
       "  <thead>\n",
       "    <tr style=\"text-align: right;\">\n",
       "      <th></th>\n",
       "      <th>T1</th>\n",
       "      <th>T2</th>\n",
       "      <th>S</th>\n",
       "    </tr>\n",
       "  </thead>\n",
       "  <tbody>\n",
       "    <tr>\n",
       "      <th>0</th>\n",
       "      <td>8</td>\n",
       "      <td>3</td>\n",
       "      <td>11</td>\n",
       "    </tr>\n",
       "    <tr>\n",
       "      <th>1</th>\n",
       "      <td>1</td>\n",
       "      <td>6</td>\n",
       "      <td>7</td>\n",
       "    </tr>\n",
       "    <tr>\n",
       "      <th>2</th>\n",
       "      <td>9</td>\n",
       "      <td>9</td>\n",
       "      <td>18</td>\n",
       "    </tr>\n",
       "  </tbody>\n",
       "</table>\n",
       "</div>"
      ],
      "text/plain": [
       "   T1  T2   S\n",
       "0   8   3  11\n",
       "1   1   6   7\n",
       "2   9   9  18"
      ]
     },
     "metadata": {},
     "output_type": "display_data"
    },
    {
     "name": "stdout",
     "output_type": "stream",
     "text": [
      "Data for algorithme B : \n"
     ]
    },
    {
     "data": {
      "text/html": [
       "<div>\n",
       "<style scoped>\n",
       "    .dataframe tbody tr th:only-of-type {\n",
       "        vertical-align: middle;\n",
       "    }\n",
       "\n",
       "    .dataframe tbody tr th {\n",
       "        vertical-align: top;\n",
       "    }\n",
       "\n",
       "    .dataframe thead th {\n",
       "        text-align: right;\n",
       "    }\n",
       "</style>\n",
       "<table border=\"1\" class=\"dataframe\">\n",
       "  <thead>\n",
       "    <tr style=\"text-align: right;\">\n",
       "      <th></th>\n",
       "      <th>T1</th>\n",
       "      <th>T2</th>\n",
       "      <th>S</th>\n",
       "    </tr>\n",
       "  </thead>\n",
       "  <tbody>\n",
       "    <tr>\n",
       "      <th>0</th>\n",
       "      <td>8</td>\n",
       "      <td>3</td>\n",
       "      <td>11</td>\n",
       "    </tr>\n",
       "    <tr>\n",
       "      <th>1</th>\n",
       "      <td>1</td>\n",
       "      <td>6</td>\n",
       "      <td>7</td>\n",
       "    </tr>\n",
       "    <tr>\n",
       "      <th>2</th>\n",
       "      <td>9</td>\n",
       "      <td>9</td>\n",
       "      <td>18</td>\n",
       "    </tr>\n",
       "  </tbody>\n",
       "</table>\n",
       "</div>"
      ],
      "text/plain": [
       "   T1  T2   S\n",
       "0   8   3  11\n",
       "1   1   6   7\n",
       "2   9   9  18"
      ]
     },
     "metadata": {},
     "output_type": "display_data"
    }
   ],
   "source": [
    "import pandas as pd \n",
    "from pandas import read_excel\n",
    "\n",
    "sheet_algo_A = 'Algorithme_A' \n",
    "sheet_algo_B = 'Algorithme_B' \n",
    "\n",
    "file_name = 'data_clustering.xlsx'\n",
    "df_algo_A = read_excel(file_name, sheet_name = sheet_algo_A)\n",
    "df_algo_B = read_excel(file_name, sheet_name = sheet_algo_B)\n",
    "print(\"Data for algorithm A : \")\n",
    "display(df_algo_A)\n",
    "print(\"Data for algorithm B : \")\n",
    "display(df_algo_A)"
   ]
  },
  {
   "cell_type": "code",
   "execution_count": null,
   "metadata": {},
   "outputs": [],
   "source": []
  },
  {
   "cell_type": "code",
   "execution_count": null,
   "metadata": {},
   "outputs": [],
   "source": []
  },
  {
   "cell_type": "code",
   "execution_count": 15,
   "metadata": {},
   "outputs": [
    {
     "data": {
      "image/png": "[encoded data removed]",
      "text/plain": [
       "<Figure size 432x288 with 1 Axes>"
      ]
     },
     "metadata": {
      "needs_background": "light"
     },
     "output_type": "display_data"
    }
   ],
   "source": [
    "import matplotlib.pyplot as plt\n",
    "import pandas as pd\n",
    "import numpy as np\n",
    "\n",
    "centroid1 = [0,1]\n",
    "centroid2 = [2,1]\n",
    "centroid3 = [-1,2]\n",
    "data = [centroid1,centroid2,centroid3]\n",
    "df_centroids = pd.DataFrame(columns=[\"X\",\"Y\"],data=data)\n",
    "df_centroids['X'] = df_centroids['X'].astype(dtype=np.float64)\n",
    "df_centroids['Y'] = df_centroids['Y'].astype(dtype=np.float64)\n",
    "\n",
    "p1 = [2,3]\n",
    "p2 = [-0.5,0]\n",
    "plt.scatter(df_centroids['X'],df_centroids['Y'])\n",
    "plt.scatter([2,-0.5],[3,0])\n",
    "plt.show()"
   ]
  },
  {
   "cell_type": "code",
   "execution_count": null,
   "metadata": {},
   "outputs": [],
   "source": []
  }
 ],
 "metadata": {
  "kernelspec": {
   "display_name": "Python 3",
   "language": "python",
   "name": "python3"
  },
  "language_info": {
   "codemirror_mode": {
    "name": "ipython",
    "version": 3
   },
   "file_extension": ".py",
   "mimetype": "text/x-python",
   "name": "python",
   "nbconvert_exporter": "python",
   "pygments_lexer": "ipython3",
   "version": "3.7.7"
  }
 },
 "nbformat": 4,
 "nbformat_minor": 4
}
