{
 "cells": [
  {
   "cell_type": "markdown",
   "metadata": {},
   "source": [
    "# Homework 3 : K-Means"
   ]
  },
  {
   "cell_type": "markdown",
   "metadata": {},
   "source": [
    "## 1 - Download the data stored in the txt file"
   ]
  },
  {
   "cell_type": "code",
   "execution_count": 3,
   "metadata": {
    "scrolled": true
   },
   "outputs": [
    {
     "data": {
      "image/png": "[encoded data removed]",
      "text/plain": [
       "<Figure size 432x288 with 1 Axes>"
      ]
     },
     "metadata": {
      "needs_background": "light"
     },
     "output_type": "display_data"
    }
   ],
   "source": [
    "import pandas as pd\n",
    "import numpy as np\n",
    "import matplotlib.pyplot as plt\n",
    "\n",
    "# We extract a dataframe from our text file and print its head\n",
    "dataframe = pd.read_csv('data_kmeans.txt', sep=\" \", header=None)\n",
    "dataframe.columns = ['x','y']\n",
    "dataframe['x'] = dataframe['x'].astype(dtype=np.float64)\n",
    "dataframe['y'] = dataframe['y'].astype(dtype=np.float64)\n",
    "\n",
    "m = dataframe.shape[0] # Number of examples\n",
    "n = dataframe.shape[1] # Number of features\n",
    "\n",
    "# Plot of our data\n",
    "plt.scatter(dataframe['x'],dataframe['y'])\n",
    "plt.show()"
   ]
  },
  {
   "cell_type": "markdown",
   "metadata": {},
   "source": [
    "## 2 - Create our centroïds"
   ]
  },
  {
   "cell_type": "code",
   "execution_count": 4,
   "metadata": {},
   "outputs": [
    {
     "name": "stdout",
     "output_type": "stream",
     "text": [
      "The coordonates of our centroids are :\n",
      "        x       y\n",
      "0  2.1546  5.4628\n",
      "1  1.4026  1.0873\n",
      "2  4.1877  2.8928\n"
     ]
    },
    {
     "data": {
      "image/png": "[encoded data removed]",
      "text/plain": [
       "<Figure size 432x288 with 1 Axes>"
      ]
     },
     "metadata": {
      "needs_background": "light"
     },
     "output_type": "display_data"
    }
   ],
   "source": [
    "import random\n",
    "\n",
    "# Initialize the centroïds\n",
    "k = 3\n",
    "centroids = pd.DataFrame(columns=['x','y'])\n",
    "\n",
    "for i in range(0,k,1):\n",
    "    rand = random.randint(0,m-1)\n",
    "    centroids.loc[i] = [dataframe.iloc[rand,0],dataframe.iloc[rand,1]]\n",
    "print(\"The coordonates of our centroids are :\")\n",
    "print(centroids.head())\n",
    "\n",
    "# Scatter plot of our centroïds\n",
    "plt.scatter(centroids['x'],centroids['y'])\n",
    "plt.show()"
   ]
  },
  {
   "cell_type": "markdown",
   "metadata": {},
   "source": [
    "## 3 - Functions to cluster all our data points"
   ]
  },
  {
   "cell_type": "code",
   "execution_count": 1,
   "metadata": {
    "collapsed": true
   },
   "outputs": [],
   "source": [
    "import math\n",
    "import numpy\n",
    "\n",
    "def distance(x1,x2,y1,y2):\n",
    "    distance = math.sqrt((x1-x2)**2 + (y1-y2)**2)\n",
    "    return distance"
   ]
  },
  {
   "cell_type": "code",
   "execution_count": 6,
   "metadata": {},
   "outputs": [],
   "source": [
    "# Function used to assign to each point one of the centroids\n",
    "def get_closest_centroid(feature_dataframe, centroid_dataframe):\n",
    "    # Matrix which will contain for each point the distance to each centroid\n",
    "    # First we fill the matrix with 0\n",
    "    matrix_distance_to_centroid = [[0 for x in range(0,len(centroid_dataframe),1)] for y in range(0,len(feature_dataframe),1)] \n",
    "\n",
    "    # Loop through all the data points \n",
    "    for i in range(0,len(matrix_distance_to_centroid),1):\n",
    "        # Loop through each centroids\n",
    "        for j in range(0,len(matrix_distance_to_centroid[0]),1):\n",
    "            distance_to_centroid = distance(centroid_dataframe.iloc[j,0],feature_dataframe.iloc[i,0],centroid_dataframe.iloc[j,1],feature_dataframe.iloc[i,1])\n",
    "            # Compute the distance from each point to each centroid and put this in the matrix\n",
    "            matrix_distance_to_centroid[i][j] = distance_to_centroid\n",
    "            \n",
    "    # Create an empty list        \n",
    "    list_centroids_indexes = list()\n",
    "    for vector in matrix_distance_to_centroid:\n",
    "        # Fill the list with the number of the centroid each point is assigned to using ARGMIN function\n",
    "        list_centroids_indexes.append(numpy.argmin(vector))\n",
    "    # Return this vector\n",
    "    return list_centroids_indexes"
   ]
  },
  {
   "cell_type": "code",
   "execution_count": 7,
   "metadata": {},
   "outputs": [],
   "source": [
    "# Function to update the centroids\n",
    "def update_centroids(feature_dataframe,list_centroids_indexes):\n",
    "    # Create an empty dataframe which will contain, for each cluster, the X and Y position of each centroid\n",
    "    df_update_centroids = pd.DataFrame(np.zeros((k, 3)),columns=['total_x','total_y','cpt'])\n",
    "    \n",
    "    # Loop through all the data points \n",
    "    for i in range(0,len(list_centroids_indexes),1):\n",
    "        # If a data point has a particular centroid it is assigned to, then add its coordonate to the dataframe\n",
    "        df_update_centroids.iloc[list_centroids_indexes[i],0] += feature_dataframe.iloc[i,0]\n",
    "        df_update_centroids.iloc[list_centroids_indexes[i],1] += feature_dataframe.iloc[i,1]\n",
    "        df_update_centroids.iloc[list_centroids_indexes[i],2] += 1\n",
    "    \n",
    "    # Then compute the mean of these values by using the cpt\n",
    "    for i in range(0,len(df_update_centroids),1):\n",
    "        df_update_centroids.iloc[i,0] = df_update_centroids.iloc[i,0]/df_update_centroids.iloc[i,2]\n",
    "        df_update_centroids.iloc[i,1] = df_update_centroids.iloc[i,1]/df_update_centroids.iloc[i,2]    \n",
    "    return df_update_centroids"
   ]
  },
  {
   "cell_type": "markdown",
   "metadata": {},
   "source": [
    "## 4 - Main loop to implement our algorithm"
   ]
  },
  {
   "cell_type": "code",
   "execution_count": 9,
   "metadata": {},
   "outputs": [
    {
     "name": "stdout",
     "output_type": "stream",
     "text": [
      "########## Start ###########\n",
      "The original centroids are :\n",
      "        x       y\n",
      "0  2.1546  5.4628\n",
      "1  1.4026  1.0873\n",
      "2  4.1877  2.8928\n"
     ]
    },
    {
     "data": {
      "image/png": "[encoded data removed]",
      "text/plain": [
       "<Figure size 432x288 with 1 Axes>"
      ]
     },
     "metadata": {
      "needs_background": "light"
     },
     "output_type": "display_data"
    },
    {
     "name": "stdout",
     "output_type": "stream",
     "text": [
      "\n",
      "After 1 loop the centroids are :\n",
      "    total_x   total_y    cpt\n",
      "0  1.953995  5.025571   98.0\n",
      "1  2.545780  0.949208   64.0\n",
      "2  5.441241  2.484602  138.0\n"
     ]
    },
    {
     "data": {
      "image/png": "[encoded data removed]",
      "text/plain": [
       "<Figure size 432x288 with 1 Axes>"
      ]
     },
     "metadata": {
      "needs_background": "light"
     },
     "output_type": "display_data"
    },
    {
     "name": "stdout",
     "output_type": "stream",
     "text": [
      "\n",
      "After 2 loop the centroids are :\n",
      "    total_x   total_y    cpt\n",
      "0  1.983632  5.030431   99.0\n",
      "1  2.980654  1.008502   98.0\n",
      "2  5.988632  2.905675  103.0\n"
     ]
    },
    {
     "data": {
      "image/png": "[encoded data removed]",
      "text/plain": [
       "<Figure size 432x288 with 1 Axes>"
      ]
     },
     "metadata": {
      "needs_background": "light"
     },
     "output_type": "display_data"
    },
    {
     "name": "stdout",
     "output_type": "stream",
     "text": [
      "\n",
      "After 3 loop the centroids are :\n",
      "    total_x   total_y    cpt\n",
      "0  1.953995  5.025571   98.0\n",
      "1  3.043672  1.015409  102.0\n",
      "2  6.033667  3.000527  100.0\n"
     ]
    },
    {
     "data": {
      "image/png": "[encoded data removed]",
      "text/plain": [
       "<Figure size 432x288 with 1 Axes>"
      ]
     },
     "metadata": {
      "needs_background": "light"
     },
     "output_type": "display_data"
    },
    {
     "name": "stdout",
     "output_type": "stream",
     "text": [
      "\n",
      "After 4 loop the centroids are :\n",
      "    total_x   total_y    cpt\n",
      "0  1.953995  5.025571   98.0\n",
      "1  3.043672  1.015409  102.0\n",
      "2  6.033667  3.000527  100.0\n"
     ]
    },
    {
     "data": {
      "image/png": "[encoded data removed]",
      "text/plain": [
       "<Figure size 432x288 with 1 Axes>"
      ]
     },
     "metadata": {
      "needs_background": "light"
     },
     "output_type": "display_data"
    },
    {
     "name": "stdout",
     "output_type": "stream",
     "text": [
      "\n",
      "########### End #########\n",
      "The new centroids are :\n",
      "    total_x   total_y    cpt\n",
      "0  1.953995  5.025571   98.0\n",
      "1  3.043672  1.015409  102.0\n",
      "2  6.033667  3.000527  100.0\n"
     ]
    },
    {
     "data": {
      "image/png": "[encoded data removed]",
      "text/plain": [
       "<Figure size 432x288 with 1 Axes>"
      ]
     },
     "metadata": {
      "needs_background": "light"
     },
     "output_type": "display_data"
    }
   ],
   "source": [
    "print(\"########## Start ###########\")\n",
    "print(\"The original centroids are :\")\n",
    "print(centroids)\n",
    "new_centroids = centroids\n",
    "plt.scatter(dataframe['x'],dataframe['y'])\n",
    "plt.scatter(centroids['x'],centroids['y'])\n",
    "plt.show()\n",
    "\n",
    "loop_cpt = 0\n",
    "error = 1 \n",
    "while error != 0:\n",
    "    loop_cpt+=1\n",
    "    prev_centroids = new_centroids.copy()\n",
    "    closestK = get_closest_centroid(dataframe,new_centroids)\n",
    "    new_centroids = update_centroids(dataframe,closestK) \n",
    "    print(\"\\nAfter \"+str(loop_cpt)+\" loop the centroids are :\")\n",
    "    print(new_centroids)\n",
    "    plt.scatter(dataframe['x'],dataframe['y'])\n",
    "    plt.scatter(new_centroids['total_x'],new_centroids['total_y'])\n",
    "    plt.show()\n",
    "    if(prev_centroids.equals(new_centroids)):\n",
    "        error = 0\n",
    "    \n",
    "print(\"\\n########### End #########\")\n",
    "print(\"The new centroids are :\")\n",
    "print(new_centroids)\n",
    "plt.scatter(dataframe['x'],dataframe['y'])\n",
    "plt.scatter(new_centroids['total_x'],new_centroids['total_y'])\n",
    "plt.show()"
   ]
  },
  {
   "cell_type": "markdown",
   "metadata": {},
   "source": [
    "## 5- Clustering some real data points"
   ]
  },
  {
   "cell_type": "code",
   "execution_count": 44,
   "metadata": {},
   "outputs": [
    {
     "name": "stdout",
     "output_type": "stream",
     "text": [
      "   x   y    k    z    w    t\n",
      "0  1   9  516  578  601  493\n",
      "1  0  12  451  507  584  436\n",
      "2  1   4  483  526  529  486\n",
      "3  1  15  516  505  556  536\n",
      "4  1   2  433  463  504  426\n"
     ]
    }
   ],
   "source": [
    "# We get the data frome the csv file and print its head \n",
    "data = pd.read_csv('grade_students.csv')\n",
    "data.columns = ['x','y','k','z','w','t']\n",
    "print(data.head())"
   ]
  },
  {
   "cell_type": "code",
   "execution_count": 57,
   "metadata": {},
   "outputs": [
    {
     "name": "stdout",
     "output_type": "stream",
     "text": [
      "     x     y      k      z      w      t\n",
      "0  0.0   1.0  581.0  545.0  622.0  617.0\n",
      "1  1.0  20.0  550.0  552.0  606.0  567.0\n",
      "2  1.0   4.0  606.0  579.0  605.0  426.0\n"
     ]
    }
   ],
   "source": [
    "# We create 3 centroids to have 3 clusters\n",
    "k = 3\n",
    "centroids6 = pd.DataFrame(np.zeros((k, 6)),columns=['x','y','k','z','w','t'])\n",
    "# They will each have 6 dimensions, we fill them randomly\n",
    "for i in range(0,k,1):\n",
    "    centroids6.loc[i] = [np.random.randint(0,2),np.random.randint(0,25),np.random.randint(400,650),np.random.randint(400,650),np.random.randint(400,650),np.random.randint(400,650)]\n",
    "print(centroids6)"
   ]
  },
  {
   "cell_type": "code",
   "execution_count": 58,
   "metadata": {},
   "outputs": [],
   "source": [
    "def distance6(x1,x2,y1,y2,k1,k2,z1,z2,w1,w2,t1,t2):\n",
    "    distance = math.sqrt((x1-x2)**2 + (y1-y2)**2 + (k1-k2)**2 + (z1-z2)**2 + (w1-w2)**2 + (t1-t2)**2)\n",
    "    return distance"
   ]
  },
  {
   "cell_type": "code",
   "execution_count": 59,
   "metadata": {},
   "outputs": [],
   "source": [
    "# Function used to assign to each point one of the centroids\n",
    "def get_closest_centroid6(feature_dataframe, centroid_dataframe):\n",
    "    # Matrix which will contain for each point the distance to each centroid\n",
    "    # First we fill the matrix with 0\n",
    "    matrix_distance_to_centroid = [[0 for x in range(0,len(centroid_dataframe),1)] for y in range(0,len(feature_dataframe),1)] \n",
    "\n",
    "    # Loop through all the data points \n",
    "    for i in range(0,len(matrix_distance_to_centroid),1):\n",
    "        # Loop through each centroids\n",
    "        for j in range(0,len(matrix_distance_to_centroid[0]),1):\n",
    "            distance_to_centroid = distance6(centroid_dataframe.iloc[j,0],feature_dataframe.iloc[i,0],\n",
    "                                             centroid_dataframe.iloc[j,1],feature_dataframe.iloc[i,1],\n",
    "                                             centroid_dataframe.iloc[j,2],feature_dataframe.iloc[i,2],\n",
    "                                             centroid_dataframe.iloc[j,3],feature_dataframe.iloc[i,3],\n",
    "                                             centroid_dataframe.iloc[j,4],feature_dataframe.iloc[i,4],\n",
    "                                             centroid_dataframe.iloc[j,5],feature_dataframe.iloc[i,5])\n",
    "            # Compute the distance from each point to each centroid and put this in the matrix\n",
    "            matrix_distance_to_centroid[i][j] = distance_to_centroid\n",
    "            \n",
    "    # Create an empty list        \n",
    "    list_centroids_indexes = list()\n",
    "    for vector in matrix_distance_to_centroid:\n",
    "        # Fill the list with the number of the centroid each point is assigned to using ARGMIN function\n",
    "        list_centroids_indexes.append(numpy.argmin(vector))\n",
    "    # Return this vector\n",
    "    return list_centroids_indexes"
   ]
  },
  {
   "cell_type": "code",
   "execution_count": 60,
   "metadata": {},
   "outputs": [],
   "source": [
    "# Function to update the centroids\n",
    "def update_centroids6(feature_dataframe,list_centroids_indexes):\n",
    "    # Create an empty dataframe which will contain, for each cluster, the X and Y position of each centroid\n",
    "    df_update_centroids = pd.DataFrame(np.zeros((k, 7)),columns=['total_x','total_y','total_k','total_z','total_w','total_t','cpt'])\n",
    "    \n",
    "    # Loop through all the data points \n",
    "    for i in range(0,len(list_centroids_indexes),1):\n",
    "        # If a data point has a particular centroid it is assigned to, then add its coordonate to the dataframe\n",
    "        df_update_centroids.iloc[list_centroids_indexes[i],0] += feature_dataframe.iloc[i,0]\n",
    "        df_update_centroids.iloc[list_centroids_indexes[i],1] += feature_dataframe.iloc[i,1]\n",
    "        df_update_centroids.iloc[list_centroids_indexes[i],2] += feature_dataframe.iloc[i,2]\n",
    "        df_update_centroids.iloc[list_centroids_indexes[i],3] += feature_dataframe.iloc[i,3]\n",
    "        df_update_centroids.iloc[list_centroids_indexes[i],4] += feature_dataframe.iloc[i,4]\n",
    "        df_update_centroids.iloc[list_centroids_indexes[i],5] += feature_dataframe.iloc[i,5]\n",
    "        df_update_centroids.iloc[list_centroids_indexes[i],6] += 1\n",
    "    \n",
    "    # Then compute the mean of these values by using the cpt\n",
    "    for i in range(0,len(df_update_centroids),1):\n",
    "        df_update_centroids.iloc[i,0] = df_update_centroids.iloc[i,0]/df_update_centroids.iloc[i,6]\n",
    "        df_update_centroids.iloc[i,1] = df_update_centroids.iloc[i,1]/df_update_centroids.iloc[i,6]    \n",
    "        df_update_centroids.iloc[i,2] = df_update_centroids.iloc[i,2]/df_update_centroids.iloc[i,6]  \n",
    "        df_update_centroids.iloc[i,3] = df_update_centroids.iloc[i,3]/df_update_centroids.iloc[i,6]  \n",
    "        df_update_centroids.iloc[i,4] = df_update_centroids.iloc[i,4]/df_update_centroids.iloc[i,6]\n",
    "        df_update_centroids.iloc[i,5] = df_update_centroids.iloc[i,5]/df_update_centroids.iloc[i,6]  \n",
    "    return df_update_centroids"
   ]
  },
  {
   "cell_type": "code",
   "execution_count": 61,
   "metadata": {},
   "outputs": [
    {
     "name": "stdout",
     "output_type": "stream",
     "text": [
      "########## Start -- 6 Dimensions ###########\n",
      "The original centroids are :\n",
      "     x     y      k      z      w      t\n",
      "0  0.0   1.0  581.0  545.0  622.0  617.0\n",
      "1  1.0  20.0  550.0  552.0  606.0  567.0\n",
      "2  1.0   4.0  606.0  579.0  605.0  426.0\n",
      "\n",
      "After 1 loop the centroids are :\n",
      "    total_x   total_y     total_k     total_z     total_w     total_t     cpt\n",
      "0  0.211063  6.174672  618.985444  579.707424  603.473071  595.620087   687.0\n",
      "1  0.526293  7.559159  511.349912  526.899649  564.407756  508.653593  4564.0\n",
      "2  0.779264  8.180602  448.866221  490.143813  538.066890  420.010033   299.0\n",
      "\n",
      "After 2 loop the centroids are :\n",
      "    total_x   total_y     total_k     total_z     total_w     total_t     cpt\n",
      "0  0.253373  6.607196  597.239130  577.726387  599.364318  581.383808  1334.0\n",
      "1  0.501001  7.209613  514.558411  530.110481  566.355808  513.363151  2996.0\n",
      "2  0.771311  8.831148  454.853279  484.167213  536.943443  444.809016  1220.0\n",
      "\n",
      "After 3 loop the centroids are :\n",
      "    total_x   total_y     total_k     total_z     total_w     total_t     cpt\n",
      "0  0.259036  6.578313  592.554886  576.021419  597.947791  578.165997  1494.0\n",
      "1  0.497062  7.086565  515.941637  531.471210  567.351743  514.763416  2553.0\n",
      "2  0.747838  8.827678  459.600133  487.132402  538.683965  451.296075  1503.0\n",
      "\n",
      "After 4 loop the centroids are :\n",
      "    total_x   total_y     total_k     total_z     total_w     total_t     cpt\n",
      "0  0.263434  6.582569  591.727392  575.449541  597.506553  577.699214  1526.0\n",
      "1  0.489566  7.010434  517.014190  532.575960  568.104758  515.797997  2396.0\n",
      "2  0.740172  8.812039  461.617322  488.571253  539.589066  453.837838  1628.0\n",
      "\n",
      "After 5 loop the centroids are :\n",
      "    total_x   total_y     total_k     total_z     total_w     total_t     cpt\n",
      "0  0.264126  6.593955  591.840342  575.470434  597.478318  577.821288  1522.0\n",
      "1  0.486093  7.029525  517.905434  533.180573  568.638425  516.637142  2337.0\n",
      "2  0.734477  8.707274  462.524542  489.457717  540.008870  455.023063  1691.0\n",
      "\n",
      "After 6 loop the centroids are :\n",
      "    total_x   total_y     total_k     total_z     total_w     total_t     cpt\n",
      "0  0.263088  6.572565  592.177601  575.609675  597.659377  578.070245  1509.0\n",
      "1  0.483369  7.055292  518.551620  533.582721  568.822462  517.364579  2315.0\n",
      "2  0.732329  8.654114  463.042874  490.001738  540.401506  455.539977  1726.0\n",
      "\n",
      "After 7 loop the centroids are :\n",
      "    total_x   total_y     total_k     total_z     total_w     total_t     cpt\n",
      "0  0.260054  6.567694  592.621984  576.001340  597.912869  578.245979  1492.0\n",
      "1  0.485294  7.046713  519.082180  533.811851  568.872837  518.006488  2312.0\n",
      "2  0.727377  8.646621  463.313288  490.272050  540.724513  455.839061  1746.0\n",
      "\n",
      "After 8 loop the centroids are :\n",
      "    total_x   total_y     total_k     total_z     total_w     total_t     cpt\n",
      "0  0.258632  6.552471  593.043331  576.264049  598.169262  578.412999  1477.0\n",
      "1  0.483550  7.022944  519.522511  534.029437  569.008225  518.530303  2310.0\n",
      "2  0.726602  8.671015  463.546795  490.545661  540.850822  456.124787  1763.0\n",
      "\n",
      "After 9 loop the centroids are :\n",
      "    total_x   total_y     total_k     total_z     total_w     total_t     cpt\n",
      "0  0.257690  6.556391  593.392344  576.385509  598.339029  578.750513  1463.0\n",
      "1  0.482027  7.016024  519.967085  534.290169  569.154612  518.899091  2309.0\n",
      "2  0.725534  8.659168  463.733408  490.806524  540.988189  456.366142  1778.0\n",
      "\n",
      "After 10 loop the centroids are :\n",
      "    total_x   total_y     total_k     total_z     total_w     total_t     cpt\n",
      "0  0.257555  6.542582  593.605769  576.462912  598.429258  578.858516  1456.0\n",
      "1  0.479601  7.032118  520.210069  534.484809  569.289497  519.155816  2304.0\n",
      "2  0.726257  8.636872  463.911173  490.949162  541.044134  456.601117  1790.0\n",
      "\n",
      "After 11 loop the centroids are :\n",
      "    total_x   total_y     total_k     total_z     total_w     total_t     cpt\n",
      "0  0.257597  6.540055  593.805939  576.614641  598.541436  578.987569  1448.0\n",
      "1  0.477204  7.008684  520.440295  534.620495  569.414677  519.395137  2303.0\n",
      "2  0.727071  8.658699  464.063369  491.057810  541.064480  456.769316  1799.0\n",
      "\n",
      "After 12 loop the centroids are :\n",
      "    total_x   total_y     total_k     total_z     total_w     total_t     cpt\n",
      "0  0.257460  6.558640  594.022207  576.687023  598.605829  579.111034  1441.0\n",
      "1  0.476810  6.972692  520.570871  534.726051  569.479844  519.537495  2307.0\n",
      "2  0.726415  8.685350  464.102109  491.100444  541.089900  456.824084  1802.0\n",
      "\n",
      "After 13 loop the centroids are :\n",
      "    total_x   total_y     total_k     total_z     total_w     total_t     cpt\n",
      "0  0.256625  6.568340  594.196653  576.847978  598.711994  579.205718  1434.0\n",
      "1  0.476417  6.959325  520.742103  534.768498  569.515361  519.693206  2311.0\n",
      "2  0.726316  8.690305  464.122992  491.153463  541.120222  456.884765  1805.0\n",
      "\n",
      "After 14 loop the centroids are :\n",
      "    total_x   total_y     total_k     total_z     total_w     total_t     cpt\n",
      "0  0.254558  6.584151  594.469144  576.932679  598.805750  579.309958  1426.0\n",
      "1  0.476252  6.949050  520.882124  534.866580  569.561744  519.882988  2316.0\n",
      "2  0.726770  8.686394  464.147677  491.219580  541.163164  456.926991  1808.0\n",
      "\n",
      "After 15 loop the centroids are :\n",
      "    total_x   total_y     total_k     total_z     total_w     total_t     cpt\n",
      "0  0.255274  6.592124  594.553446  576.980309  598.805204  579.446554  1422.0\n",
      "1  0.475410  6.948663  520.987921  534.923210  569.628991  519.925798  2318.0\n",
      "2  0.726519  8.677901  464.171271  491.250829  541.173481  456.965746  1810.0\n",
      "\n",
      "After 16 loop the centroids are :\n",
      "    total_x   total_y     total_k     total_z     total_w     total_t     cpt\n",
      "0  0.252825  6.586158  594.729520  577.036723  598.791667  579.608051  1416.0\n",
      "1  0.476108  6.948773  521.083082  535.003874  569.727077  519.992682  2323.0\n",
      "2  0.726670  8.680287  464.186637  491.266703  541.170624  456.985643  1811.0\n",
      "\n",
      "After 17 loop the centroids are :\n",
      "    total_x   total_y     total_k     total_z     total_w     total_t     cpt\n",
      "0  0.253541  6.592776  594.832153  577.035411  598.807365  579.750708  1412.0\n",
      "1  0.475248  6.938872  521.216961  535.099010  569.797245  520.052949  2323.0\n",
      "2  0.726171  8.683196  464.223140  491.334986  541.195592  457.067769  1815.0\n",
      "\n",
      "After 18 loop the centroids are :\n",
      "    total_x   total_y     total_k     total_z     total_w     total_t     cpt\n",
      "0  0.253731  6.606965  594.939588  577.120114  598.851457  579.882729  1407.0\n",
      "1  0.474409  6.922151  521.363871  535.163441  569.845161  520.131613  2325.0\n",
      "2  0.726073  8.689769  464.248625  491.374587  541.227173  457.133113  1818.0\n",
      "\n",
      "After 19 loop the centroids are :\n",
      "    total_x   total_y     total_k     total_z     total_w     total_t     cpt\n",
      "0  0.253210  6.613409  595.072753  577.210414  598.938659  579.959344  1402.0\n",
      "1  0.473571  6.920498  521.482166  535.229050  569.882252  520.246240  2327.0\n",
      "2  0.726524  8.683141  464.291049  491.408567  541.239429  457.195497  1821.0\n",
      "\n",
      "After 20 loop the centroids are :\n",
      "    total_x   total_y     total_k     total_z     total_w     total_t     cpt\n",
      "0  0.253571  6.609286  595.126429  577.255000  598.954286  579.992857  1400.0\n",
      "1  0.472688  6.924301  521.571183  535.270108  569.886022  520.344516  2325.0\n",
      "2  0.726575  8.677260  464.342466  491.464110  541.317260  457.248219  1825.0\n",
      "\n",
      "After 21 loop the centroids are :\n",
      "    total_x   total_y     total_k     total_z     total_w     total_t     cpt\n",
      "0  0.253219  6.611588  595.168097  577.303290  599.017167  580.015737  1398.0\n",
      "1  0.472234  6.924666  521.661644  535.301765  569.874731  520.453724  2323.0\n",
      "2  0.726627  8.670858  464.401312  491.528704  541.377802  457.295243  1829.0\n",
      "\n",
      "After 22 loop the centroids are :\n",
      "    total_x   total_y     total_k     total_z     total_w     total_t     cpt\n",
      "0  0.252684  6.608447  595.207588  577.314245  599.039370  580.017895  1397.0\n",
      "1  0.472007  6.926357  521.698536  535.326012  569.889320  520.504307  2322.0\n",
      "2  0.726925  8.669033  464.427089  491.560350  541.389405  457.330967  1831.0\n",
      "\n",
      "After 23 loop the centroids are :\n",
      "    total_x   total_y     total_k     total_z     total_w     total_t     cpt\n",
      "0  0.252149  6.608166  595.224928  577.361032  599.065903  580.020057  1396.0\n",
      "1  0.471983  6.929741  521.748707  535.351724  569.915517  520.566810  2320.0\n",
      "2  0.726827  8.661941  464.484188  491.586696  541.398582  457.386041  1834.0\n",
      "\n",
      "After 24 loop the centroids are :\n",
      "    total_x   total_y     total_k     total_z     total_w     total_t     cpt\n",
      "0  0.252149  6.608166  595.224928  577.361032  599.065903  580.020057  1396.0\n",
      "1  0.471983  6.929741  521.748707  535.351724  569.915517  520.566810  2320.0\n",
      "2  0.726827  8.661941  464.484188  491.586696  541.398582  457.386041  1834.0\n",
      "\n",
      "########### End -- 6 Dimensions #########\n",
      "The new centroids are :\n",
      "    total_x   total_y     total_k     total_z     total_w     total_t     cpt\n",
      "0  0.252149  6.608166  595.224928  577.361032  599.065903  580.020057  1396.0\n",
      "1  0.471983  6.929741  521.748707  535.351724  569.915517  520.566810  2320.0\n",
      "2  0.726827  8.661941  464.484188  491.586696  541.398582  457.386041  1834.0\n"
     ]
    }
   ],
   "source": [
    "print(\"########## Start -- 6 Dimensions ###########\")\n",
    "print(\"The original centroids are :\")\n",
    "print(centroids6)\n",
    "new_centroids = centroids6\n",
    "\n",
    "\n",
    "loop_cpt = 0\n",
    "error = 1 \n",
    "while error != 0:\n",
    "    loop_cpt+=1\n",
    "    prev_centroids = new_centroids.copy()\n",
    "    closestK = get_closest_centroid6(data,new_centroids)\n",
    "    new_centroids = update_centroids6(data,closestK) \n",
    "    print(\"\\nAfter \"+str(loop_cpt)+\" loop the centroids are :\")\n",
    "    print(new_centroids)\n",
    "    if(prev_centroids.equals(new_centroids)):\n",
    "        error = 0\n",
    "    \n",
    "print(\"\\n########### End -- 6 Dimensions #########\")\n",
    "print(\"The new centroids are :\")\n",
    "print(new_centroids)"
   ]
  },
  {
   "cell_type": "code",
   "execution_count": null,
   "metadata": {},
   "outputs": [],
   "source": []
  }
 ],
 "metadata": {
  "anaconda-cloud": {},
  "kernelspec": {
   "display_name": "Python 3",
   "language": "python",
   "name": "python3"
  },
  "language_info": {
   "codemirror_mode": {
    "name": "ipython",
    "version": 3
   },
   "file_extension": ".py",
   "mimetype": "text/x-python",
   "name": "python",
   "nbconvert_exporter": "python",
   "pygments_lexer": "ipython3",
   "version": "3.7.7"
  }
 },
 "nbformat": 4,
 "nbformat_minor": 2
}
